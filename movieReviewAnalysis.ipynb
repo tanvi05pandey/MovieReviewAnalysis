{
 "cells": [
  {
   "cell_type": "code",
   "execution_count": 84,
   "metadata": {},
   "outputs": [],
   "source": [
    "import tensorflow as tf\n",
    "from keras.preprocessing.text import Tokenizer\n",
    "from keras.preprocessing.sequence import pad_sequences\n",
    "from keras import regularizers\n",
    "from keras.layers import Embedding\n",
    "from keras.models import Sequential\n",
    "from keras import layers\n",
    "from keras import regularizers\n",
    "from keras import backend as K\n",
    "from keras.callbacks import ModelCheckpoint\n",
    "from keras.utils import to_categorical\n",
    "from keras.models import load_model\n",
    "import pandas as pd \n",
    "import numpy as np\n",
    "import re\n",
    "import matplotlib.pyplot as plt"
   ]
  },
  {
   "cell_type": "code",
   "execution_count": 85,
   "metadata": {},
   "outputs": [],
   "source": [
    "with open('data/train.dat', 'r') as f:\n",
    "    reviews = f.read().rstrip('\\n')\n",
    "with open('data/train.labels', 'r') as f:\n",
    "    labels = f.read().rstrip('\\n')\n",
    "with open('data/test.dat', 'r') as f:\n",
    "    test_data = f.read().rstrip('\\n')"
   ]
  },
  {
   "cell_type": "code",
   "execution_count": 86,
   "metadata": {},
   "outputs": [],
   "source": [
    "punctuation = r'''!()-[]{};:'\"\\,<>./?@#$%^&*_“~'''\n",
    "stop_words = ['i', 'me', 'my', 'myself', 'we', 'our', 'ours', 'ourselves', 'you', \"you're\", \"you've\", \"you'll\", \"you'd\", 'your', 'yours', 'yourself', 'yourselves', 'he', 'him', 'his', 'himself', 'she', \"she's\", 'her', 'hers', 'herself', 'it', \"it's\", 'its', 'itself', 'they', 'them', 'their', 'theirs', 'themselves', 'what', 'which', 'who', 'whom', 'this', 'that', \"that'll\", 'these', 'those', 'am', 'is', 'are', 'was', 'were', 'be', 'been', 'being', 'have', 'has', 'had', 'having', 'do', 'does', 'did', 'doing', 'a', 'an', 'the', 'and', 'but', 'if', 'or', 'because', 'as', 'until', 'while', 'of', 'at', 'by', 'for', 'with', 'about', 'against', 'between', 'into', 'through', 'during', 'before', 'after', 'above', 'below', 'to', 'from', 'up', 'down', 'in', 'out', 'on', 'off', 'over', 'under', 'again', 'further', 'then', 'once', 'here', 'there', 'when', 'where', 'why', 'how', 'all', 'any', 'both', 'each', 'few', 'more', 'most', 'other', 'some', 'such', 'no', 'nor', 'not', 'only', 'own', 'same', 'so', 'than', 'too', 'very', 's', 't', 'can', 'will', 'just', 'don', \"don't\", 'should', \"should've\", 'now', 'd', 'll', 'm', 'o', 're', 've', 'y', 'ain', 'aren', \"aren't\", 'couldn', \"couldn't\", 'didn', \"didn't\", 'doesn', \"doesn't\", 'hadn', \"hadn't\", 'hasn', \"hasn't\", 'haven', \"haven't\", 'isn', \"isn't\", 'ma', 'mightn', \"mightn't\", 'mustn', \"mustn't\", 'needn', \"needn't\", 'shan', \"shan't\", 'shouldn', \"shouldn't\", 'wasn', \"wasn't\", 'weren', \"weren't\", 'won', \"won't\", 'wouldn', \"wouldn't\"]\n",
    "\n",
    "\n",
    "# Removing words that have numbers in them\n",
    "reviews = re.sub(r'\\w*\\d\\w*', '', reviews)\n",
    "test_data = re.sub(r'\\w*\\d\\w*', '', test_data)\n",
    "\n",
    "# Removing digits\n",
    "reviews = re.sub(r'[0-9]+', '', reviews)\n",
    "test_data = re.sub(r'[0-9]+', '', test_data)\n",
    "\n",
    "# Setting every word to lower\n",
    "reviews = reviews.lower()\n",
    "test_data = test_data.lower()\n",
    "\n",
    "# Dropping punctuation\n",
    "reviews = ''.join([x for x in reviews if x not in punctuation])\n",
    "test_data = ''.join([x for x in test_data if x not in punctuation])\n",
    "\n",
    "reviews_split = reviews.split('\\n')\n",
    "test_data_split = test_data.split('\\n')\n"
   ]
  },
  {
   "cell_type": "code",
   "execution_count": 87,
   "metadata": {},
   "outputs": [],
   "source": [
    "labels_split = labels.split('\\n')\n",
    "encoded_labels = np.array([0 if label == '-1' else 1 for label in labels_split])"
   ]
  },
  {
   "cell_type": "code",
   "execution_count": 88,
   "metadata": {},
   "outputs": [],
   "source": [
    "# Dropping stop words from training data\n",
    "review_words = []\n",
    "for review in reviews_split:\n",
    "    review_words.append(review.split())\n",
    "final = []\n",
    "for review in review_words:\n",
    "    tokens_without_sw = ' '.join([word for word in review if not word in stop_words])\n",
    "    final.append(tokens_without_sw)"
   ]
  },
  {
   "cell_type": "code",
   "execution_count": 89,
   "metadata": {},
   "outputs": [],
   "source": [
    "# Dropping stop words from test data\n",
    "test_words = []\n",
    "for review in test_data_split:\n",
    "    test_words.append(review.split())\n",
    "final_test = []\n",
    "for review in test_words:\n",
    "    tokens_without_sw = ' '.join([word for word in review if not word in stop_words])\n",
    "    final_test.append(tokens_without_sw)"
   ]
  },
  {
   "cell_type": "code",
   "execution_count": 90,
   "metadata": {},
   "outputs": [
    {
     "name": "stdout",
     "output_type": "stream",
     "text": [
      "(25000, 500)\n"
     ]
    }
   ],
   "source": [
    "# max_words = 5000\n",
    "# max_len = 200\n",
    "max_words = 8000\n",
    "max_len = 500\n",
    "\n",
    "tokenizer = Tokenizer(num_words=max_words)\n",
    "tokenizer.fit_on_texts(final)\n",
    "sequences = tokenizer.texts_to_sequences(final)\n",
    "features = pad_sequences(sequences, maxlen=max_len)\n",
    "print(features.shape)"
   ]
  },
  {
   "cell_type": "code",
   "execution_count": 91,
   "metadata": {},
   "outputs": [
    {
     "name": "stdout",
     "output_type": "stream",
     "text": [
      "\t\t\tFeatures Shapes:\n",
      "Train set: \t\t(20000, 500) \n",
      "Validation set: \t(5000, 500)\n"
     ]
    }
   ],
   "source": [
    "## split data into training and validation data (features and labels, x and y)\n",
    "split_frac = 0.8\n",
    "\n",
    "split_idx = int(len(features)*0.8)\n",
    "train_x, val_x = features[:split_idx], features[split_idx:]\n",
    "train_y, val_y = encoded_labels[:split_idx], encoded_labels[split_idx:len(features)]\n",
    "\n",
    "\n",
    "## print out the shapes of your resultant feature data\n",
    "print(\"\\t\\t\\tFeatures Shapes:\")\n",
    "print(\"Train set: \\t\\t{}\".format(train_x.shape),\n",
    "      \"\\nValidation set: \\t{}\".format(val_x.shape))"
   ]
  },
  {
   "cell_type": "code",
   "execution_count": 92,
   "metadata": {},
   "outputs": [],
   "source": [
    "train_y = to_categorical(train_y, 2)\n",
    "val_y = to_categorical(val_y, 2)"
   ]
  },
  {
   "cell_type": "code",
   "execution_count": 93,
   "metadata": {},
   "outputs": [],
   "source": [
    "embedding_layer = Embedding(1000, 64)"
   ]
  },
  {
   "cell_type": "code",
   "execution_count": 62,
   "metadata": {
    "collapsed": true,
    "jupyter": {
     "outputs_hidden": true
    }
   },
   "outputs": [
    {
     "name": "stdout",
     "output_type": "stream",
     "text": [
      "Epoch 1/5\n",
      "624/625 [============================>.] - ETA: 0s - loss: 0.4417 - accuracy: 0.7882\n",
      "Epoch 00001: val_accuracy improved from -inf to 0.87700, saving model to best_model_lstm.hdf5\n",
      "625/625 [==============================] - 12s 20ms/step - loss: 0.4413 - accuracy: 0.7885 - val_loss: 0.3079 - val_accuracy: 0.8770\n",
      "Epoch 2/5\n",
      "624/625 [============================>.] - ETA: 0s - loss: 0.2718 - accuracy: 0.8911\n",
      "Epoch 00002: val_accuracy improved from 0.87700 to 0.89340, saving model to best_model_lstm.hdf5\n",
      "625/625 [==============================] - 14s 22ms/step - loss: 0.2717 - accuracy: 0.8911 - val_loss: 0.2789 - val_accuracy: 0.8934\n",
      "Epoch 3/5\n",
      "625/625 [==============================] - ETA: 0s - loss: 0.2351 - accuracy: 0.9087\n",
      "Epoch 00003: val_accuracy improved from 0.89340 to 0.89380, saving model to best_model_lstm.hdf5\n",
      "625/625 [==============================] - 11s 18ms/step - loss: 0.2351 - accuracy: 0.9087 - val_loss: 0.2718 - val_accuracy: 0.8938\n",
      "Epoch 4/5\n",
      "622/625 [============================>.] - ETA: 0s - loss: 0.2135 - accuracy: 0.9169\n",
      "Epoch 00004: val_accuracy did not improve from 0.89380\n",
      "625/625 [==============================] - 12s 18ms/step - loss: 0.2136 - accuracy: 0.9170 - val_loss: 0.2972 - val_accuracy: 0.8864\n",
      "Epoch 5/5\n",
      "623/625 [============================>.] - ETA: 0s - loss: 0.1989 - accuracy: 0.9225\n",
      "Epoch 00005: val_accuracy did not improve from 0.89380\n",
      "625/625 [==============================] - 12s 18ms/step - loss: 0.1991 - accuracy: 0.9225 - val_loss: 0.2856 - val_accuracy: 0.8882\n"
     ]
    }
   ],
   "source": [
    "model_lstm = Sequential()\n",
    "model_lstm.add(layers.Embedding(max_words, 20)) #The embedding layer\n",
    "model_lstm.add(layers.LSTM(15,dropout=0.5)) #My LSTM layer\n",
    "model_lstm.add(layers.Dense(2,activation='softmax'))\n",
    "\n",
    "#model_lstm.compile(optimizer=tf.keras.optimizers.Adam(learning_rate=1e-3),loss='categorical_crossentropy', metrics=['accuracy'])\n",
    "model_lstm.compile(optimizer='rmsprop',loss='categorical_crossentropy', metrics=['accuracy'])\n",
    "\n",
    "\n",
    "checkpoint1 = ModelCheckpoint(\"best_model_lstm.hdf5\", monitor='val_accuracy', verbose=1,save_best_only=True, mode='auto', save_weights_only=False)\n",
    "history = model_lstm.fit(train_x, train_y, epochs=5,validation_data=(val_x, val_y),callbacks=[checkpoint1])"
   ]
  },
  {
   "cell_type": "code",
   "execution_count": 95,
   "metadata": {},
   "outputs": [
    {
     "name": "stdout",
     "output_type": "stream",
     "text": [
      "Epoch 1/10\n",
      "625/625 [==============================] - ETA: 0s - loss: 0.4312 - accuracy: 0.7954\n",
      "Epoch 00001: val_accuracy improved from -inf to 0.86540, saving model to best_model_bidirec.hdf5\n",
      "625/625 [==============================] - 24s 38ms/step - loss: 0.4312 - accuracy: 0.7954 - val_loss: 0.3306 - val_accuracy: 0.8654\n",
      "Epoch 2/10\n",
      "625/625 [==============================] - ETA: 0s - loss: 0.2684 - accuracy: 0.8920\n",
      "Epoch 00002: val_accuracy improved from 0.86540 to 0.88800, saving model to best_model_bidirec.hdf5\n",
      "625/625 [==============================] - 24s 38ms/step - loss: 0.2684 - accuracy: 0.8920 - val_loss: 0.2738 - val_accuracy: 0.8880\n",
      "Epoch 3/10\n",
      "624/625 [============================>.] - ETA: 0s - loss: 0.2336 - accuracy: 0.9080\n",
      "Epoch 00003: val_accuracy did not improve from 0.88800\n",
      "625/625 [==============================] - 24s 38ms/step - loss: 0.2337 - accuracy: 0.9079 - val_loss: 0.2769 - val_accuracy: 0.8878\n",
      "Epoch 4/10\n",
      "625/625 [==============================] - ETA: 0s - loss: 0.2219 - accuracy: 0.9143\n",
      "Epoch 00004: val_accuracy did not improve from 0.88800\n",
      "625/625 [==============================] - 25s 40ms/step - loss: 0.2219 - accuracy: 0.9143 - val_loss: 0.3131 - val_accuracy: 0.8854\n",
      "Epoch 5/10\n",
      "624/625 [============================>.] - ETA: 0s - loss: 0.2074 - accuracy: 0.9221\n",
      "Epoch 00005: val_accuracy did not improve from 0.88800\n",
      "625/625 [==============================] - 28s 45ms/step - loss: 0.2073 - accuracy: 0.9222 - val_loss: 0.3371 - val_accuracy: 0.8778\n",
      "Epoch 6/10\n",
      "625/625 [==============================] - ETA: 0s - loss: 0.2016 - accuracy: 0.9232\n",
      "Epoch 00006: val_accuracy improved from 0.88800 to 0.88980, saving model to best_model_bidirec.hdf5\n",
      "625/625 [==============================] - 25s 40ms/step - loss: 0.2016 - accuracy: 0.9232 - val_loss: 0.2834 - val_accuracy: 0.8898\n",
      "Epoch 7/10\n",
      "624/625 [============================>.] - ETA: 0s - loss: 0.1949 - accuracy: 0.9262\n",
      "Epoch 00007: val_accuracy did not improve from 0.88980\n",
      "625/625 [==============================] - 27s 44ms/step - loss: 0.1950 - accuracy: 0.9261 - val_loss: 0.2835 - val_accuracy: 0.8890\n",
      "Epoch 8/10\n",
      "624/625 [============================>.] - ETA: 0s - loss: 0.1871 - accuracy: 0.9299\n",
      "Epoch 00008: val_accuracy improved from 0.88980 to 0.89260, saving model to best_model_bidirec.hdf5\n",
      "625/625 [==============================] - 26s 42ms/step - loss: 0.1869 - accuracy: 0.9301 - val_loss: 0.2931 - val_accuracy: 0.8926\n",
      "Epoch 9/10\n",
      "625/625 [==============================] - ETA: 0s - loss: 0.1821 - accuracy: 0.9324\n",
      "Epoch 00009: val_accuracy did not improve from 0.89260\n",
      "625/625 [==============================] - 26s 41ms/step - loss: 0.1821 - accuracy: 0.9324 - val_loss: 0.3149 - val_accuracy: 0.8816\n",
      "Epoch 10/10\n",
      "624/625 [============================>.] - ETA: 0s - loss: 0.1780 - accuracy: 0.9317\n",
      "Epoch 00010: val_accuracy did not improve from 0.89260\n",
      "625/625 [==============================] - 28s 45ms/step - loss: 0.1778 - accuracy: 0.9318 - val_loss: 0.3295 - val_accuracy: 0.8806\n"
     ]
    }
   ],
   "source": [
    "model_bidirec = Sequential()\n",
    "model_bidirec.add(layers.Embedding(max_words, 40, input_length=max_len))\n",
    "model_bidirec.add(layers.Bidirectional(layers.LSTM(20,dropout=0.6)))\n",
    "model_bidirec.add(layers.Dense(2,activation='softmax'))\n",
    "model_bidirec.compile(optimizer='rmsprop',loss='categorical_crossentropy', metrics=['accuracy'])\n",
    "checkpoint2 = ModelCheckpoint(\"best_model_bidirec.hdf5\", monitor='val_accuracy', verbose=1,save_best_only=True, mode='auto', save_weights_only=False)\n",
    "history = model_bidirec.fit(train_x, train_y, epochs=10,validation_data=(val_x, val_y),callbacks=[checkpoint2])"
   ]
  },
  {
   "cell_type": "code",
   "execution_count": 30,
   "metadata": {
    "collapsed": true,
    "jupyter": {
     "outputs_hidden": true
    }
   },
   "outputs": [
    {
     "name": "stdout",
     "output_type": "stream",
     "text": [
      "Epoch 1/5\n",
      "624/625 [============================>.] - ETA: 0s - loss: 0.4535 - accuracy: 0.7671\n",
      "Epoch 00001: val_accuracy improved from -inf to 0.87740, saving model to best_model_gru.hdf5\n",
      "625/625 [==============================] - 13s 21ms/step - loss: 0.4532 - accuracy: 0.7671 - val_loss: 0.2925 - val_accuracy: 0.8774\n",
      "Epoch 2/5\n",
      "623/625 [============================>.] - ETA: 0s - loss: 0.2752 - accuracy: 0.8876\n",
      "Epoch 00002: val_accuracy improved from 0.87740 to 0.88700, saving model to best_model_gru.hdf5\n",
      "625/625 [==============================] - 15s 23ms/step - loss: 0.2750 - accuracy: 0.8876 - val_loss: 0.2746 - val_accuracy: 0.8870\n",
      "Epoch 3/5\n",
      "625/625 [==============================] - ETA: 0s - loss: 0.2354 - accuracy: 0.9078\n",
      "Epoch 00003: val_accuracy improved from 0.88700 to 0.89080, saving model to best_model_gru.hdf5\n",
      "625/625 [==============================] - 12s 19ms/step - loss: 0.2354 - accuracy: 0.9078 - val_loss: 0.2738 - val_accuracy: 0.8908\n",
      "Epoch 4/5\n",
      "624/625 [============================>.] - ETA: 0s - loss: 0.2193 - accuracy: 0.9148\n",
      "Epoch 00004: val_accuracy did not improve from 0.89080\n",
      "625/625 [==============================] - 12s 19ms/step - loss: 0.2193 - accuracy: 0.9148 - val_loss: 0.2981 - val_accuracy: 0.8780\n",
      "Epoch 5/5\n",
      "624/625 [============================>.] - ETA: 0s - loss: 0.2096 - accuracy: 0.9204\n",
      "Epoch 00005: val_accuracy did not improve from 0.89080\n",
      "625/625 [==============================] - 12s 19ms/step - loss: 0.2094 - accuracy: 0.9205 - val_loss: 0.2867 - val_accuracy: 0.8898\n"
     ]
    }
   ],
   "source": [
    "model_gru = Sequential()\n",
    "model_gru.add(layers.Embedding(max_words, 40, input_length=max_len))\n",
    "model_gru.add(layers.GRU(20,dropout=0.6))\n",
    "model_gru.add(layers.Dense(2,activation='softmax'))\n",
    "model_gru.compile(optimizer='rmsprop',loss='categorical_crossentropy', metrics=['accuracy'])\n",
    "checkpoint3 = ModelCheckpoint(\"best_model_gru.hdf5\", monitor='val_accuracy', verbose=1,save_best_only=True, mode='auto', save_weights_only=False)\n",
    "history = model_gru.fit(train_x, train_y, epochs=5,validation_data=(val_x, val_y),callbacks=[checkpoint3])"
   ]
  },
  {
   "cell_type": "code",
   "execution_count": 96,
   "metadata": {},
   "outputs": [],
   "source": [
    "sentiment = ['-1', '+1']\n",
    "sequence = tokenizer.texts_to_sequences(final_test)\n",
    "test = pad_sequences(sequence, maxlen=max_len)"
   ]
  },
  {
   "cell_type": "code",
   "execution_count": 64,
   "metadata": {},
   "outputs": [],
   "source": [
    "model_lstm=load_model('best_model_lstm.hdf5')\n",
    "output_lstm = model_lstm.predict(test)"
   ]
  },
  {
   "cell_type": "code",
   "execution_count": 97,
   "metadata": {},
   "outputs": [],
   "source": [
    "model_bidirec=load_model('best_model_bidirec.hdf5')\n",
    "output_bidirec = model_bidirec.predict(test)"
   ]
  },
  {
   "cell_type": "code",
   "execution_count": 32,
   "metadata": {},
   "outputs": [],
   "source": [
    "model_gru=load_model('best_model_gru.hdf5')\n",
    "output_gru = model_gru.predict(test)"
   ]
  },
  {
   "cell_type": "code",
   "execution_count": 65,
   "metadata": {},
   "outputs": [],
   "source": [
    "predictions_lstm = []\n",
    "for line in output_lstm:\n",
    "    max_val = np.max(line)\n",
    "    idx = np.where(line == max_val)\n",
    "    predictions_lstm.append(sentiment[int(idx[0])])"
   ]
  },
  {
   "cell_type": "code",
   "execution_count": 98,
   "metadata": {},
   "outputs": [],
   "source": [
    "predictions_bidirec = []\n",
    "for line in output_bidirec:\n",
    "    max_val = np.max(line)\n",
    "    idx = np.where(line == max_val)\n",
    "    predictions_bidirec.append(sentiment[int(idx[0])])"
   ]
  },
  {
   "cell_type": "code",
   "execution_count": 33,
   "metadata": {},
   "outputs": [],
   "source": [
    "predictions_gru = []\n",
    "for line in output_gru:\n",
    "    max_val = np.max(line)\n",
    "    idx = np.where(line == max_val)\n",
    "    predictions_gru.append(sentiment[int(idx[0])])"
   ]
  },
  {
   "cell_type": "code",
   "execution_count": 66,
   "metadata": {},
   "outputs": [],
   "source": [
    "with open(\"output_lstm.txt\", \"w\") as txt_file:\n",
    "    for line in predictions_lstm:\n",
    "        txt_file.write(str(line)+'\\n')"
   ]
  },
  {
   "cell_type": "code",
   "execution_count": 99,
   "metadata": {},
   "outputs": [],
   "source": [
    "with open(\"output_bidirec.txt\", \"w\") as txt_file:\n",
    "    for line in predictions_bidirec:\n",
    "        txt_file.write(str(line)+'\\n')"
   ]
  },
  {
   "cell_type": "code",
   "execution_count": 34,
   "metadata": {},
   "outputs": [],
   "source": [
    "with open(\"output_gru.txt\", \"w\") as txt_file:\n",
    "    for line in predictions_gru:\n",
    "        txt_file.write(str(line)+'\\n')"
   ]
  },
  {
   "cell_type": "code",
   "execution_count": 100,
   "metadata": {},
   "outputs": [
    {
     "data": {
      "image/png": "[encoded data removed]",
      "text/plain": [
       "<Figure size 432x288 with 1 Axes>"
      ]
     },
     "metadata": {
      "needs_background": "light"
     },
     "output_type": "display_data"
    },
    {
     "data": {
      "image/png": "[encoded data removed]",
      "text/plain": [
       "<Figure size 432x288 with 1 Axes>"
      ]
     },
     "metadata": {
      "needs_background": "light"
     },
     "output_type": "display_data"
    }
   ],
   "source": [
    "plt.plot(history.history['accuracy'])\n",
    "plt.plot(history.history['val_accuracy'])\n",
    "\n",
    "plt.title('model accuracy')\n",
    "plt.ylabel('accuracy')\n",
    "plt.xlabel('epoch')\n",
    "plt.legend(['train','test'], loc='upper left')\n",
    "plt.show()\n",
    "\n",
    "plt.plot(history.history['loss'])\n",
    "plt.plot(history.history['val_loss'])\n",
    "\n",
    "plt.title('model loss')\n",
    "plt.ylabel('loss')\n",
    "plt.xlabel('epoch')\n",
    "plt.legend(['train','test'], loc='upper left')\n",
    "plt.show()"
   ]
  },
  {
   "cell_type": "code",
   "execution_count": null,
   "metadata": {},
   "outputs": [],
   "source": []
  }
 ],
 "metadata": {
  "kernelspec": {
   "display_name": "hubpy3.7-tf2.3",
   "language": "python",
   "name": "hubpy3.7-tf2.3"
  },
  "language_info": {
   "codemirror_mode": {
    "name": "ipython",
    "version": 3
   },
   "file_extension": ".py",
   "mimetype": "text/x-python",
   "name": "python",
   "nbconvert_exporter": "python",
   "pygments_lexer": "ipython3",
   "version": "3.7.4"
  }
 },
 "nbformat": 4,
 "nbformat_minor": 4
}
